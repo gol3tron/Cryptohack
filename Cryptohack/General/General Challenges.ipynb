{
 "cells": [
  {
   "cell_type": "code",
   "execution_count": 1,
   "metadata": {},
   "outputs": [
    {
     "data": {
      "text/plain": [
       "b'crypto{3nc0d1n6_4ll_7h3_w4y_d0wn}'"
      ]
     },
     "execution_count": 1,
     "metadata": {},
     "output_type": "execute_result"
    }
   ],
   "source": [
    "#General - Encoding - Bytes and Big Integers\n",
    "\n",
    "#Cryptosystems like RSA works on numbers, but messages are made up of characters. How should we convert our messages into numbers so that mathematical operations can be applied?\n",
    "\n",
    "#The most common way is to take the ordinal bytes of the message, convert them into hexadecimal, and concatenate. This can be interpreted as a base-16 number, and also represented in base-10.\n",
    "\n",
    "#To illustrate:\n",
    "\n",
    "#message: HELLO\n",
    "#ascii bytes: [72, 69, 76, 76, 79]\n",
    "#hex bytes: [0x48, 0x45, 0x4c, 0x4c, 0x4f]\n",
    "#base-16: 0x48454c4c4f\n",
    "#base-10: 310400273487\n",
    "\n",
    "#Python's PyCryptodome library implements this with the methods \n",
    "from Crypto.Util.number import bytes_to_long \n",
    "from Crypto.Util.number import long_to_bytes\n",
    "\n",
    "#Convert the following integer back into a message:\n",
    "\n",
    "#cipher = 11515195063862318899931685488813747395775516287289682636499965282714637259206269\n",
    "\n",
    "long_to_bytes(b'11515195063862318899931685488813747395775516287289682636499965282714637259206269')"
   ]
  },
  {
   "cell_type": "code",
   "execution_count": 2,
   "metadata": {},
   "outputs": [
    {
     "ename": "ModuleNotFoundError",
     "evalue": "No module named 'pwn'",
     "output_type": "error",
     "traceback": [
      "\u001b[0;31m---------------------------------------------------------------------------\u001b[0m",
      "\u001b[0;31mModuleNotFoundError\u001b[0m                       Traceback (most recent call last)",
      "\u001b[0;32m<ipython-input-2-85301d96339b>\u001b[0m in \u001b[0;36m<module>\u001b[0;34m\u001b[0m\n\u001b[0;32m----> 1\u001b[0;31m \u001b[0;32mimport\u001b[0m \u001b[0mpwn\u001b[0m\u001b[0;34m\u001b[0m\u001b[0;34m\u001b[0m\u001b[0m\n\u001b[0m",
      "\u001b[0;31mModuleNotFoundError\u001b[0m: No module named 'pwn'"
     ]
    }
   ],
   "source": [
    "import pwn"
   ]
  },
  {
   "cell_type": "code",
   "execution_count": null,
   "metadata": {},
   "outputs": [],
   "source": []
  }
 ],
 "metadata": {
  "kernelspec": {
   "display_name": "Python 3",
   "language": "python",
   "name": "python3"
  },
  "language_info": {
   "codemirror_mode": {
    "name": "ipython",
    "version": 3
   },
   "file_extension": ".py",
   "mimetype": "text/x-python",
   "name": "python",
   "nbconvert_exporter": "python",
   "pygments_lexer": "ipython3",
   "version": "3.8.5"
  }
 },
 "nbformat": 4,
 "nbformat_minor": 4
}
