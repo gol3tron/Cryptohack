{
 "cells": [
  {
   "cell_type": "code",
   "execution_count": 40,
   "metadata": {},
   "outputs": [],
   "source": [
    "# generic import\n",
    "from pwn import * # pip install pwntools\n",
    "import json\n",
    "import codecs\n",
    "from Crypto.Util.number import bytes_to_long\n",
    "from Crypto.Util.number import long_to_bytes\n",
    "import binascii\n",
    "from binascii import unhexlify"
   ]
  },
  {
   "cell_type": "code",
   "execution_count": 15,
   "metadata": {},
   "outputs": [],
   "source": [
    "# generic decoding method\n",
    "def decode(input, encoding):\n",
    "    if encoding == \"base64\":\n",
    "        decoded = b64d(input+'==').decode()\n",
    "    elif encoding == \"hex\":\n",
    "        decoded = unhex(input).decode()\n",
    "    elif encoding == \"rot13\":\n",
    "        decoded = codecs.decode(input, 'rot_13')\n",
    "    elif encoding == \"bigint\":\n",
    "        decoded = unhex(input[2::]).decode()\n",
    "    elif encoding == \"utf-8\":\n",
    "        decoded = ''.join([chr(i) for i in input])\n",
    "    return decoded"
   ]
  },
  {
   "cell_type": "code",
   "execution_count": 53,
   "metadata": {},
   "outputs": [
    {
     "name": "stdout",
     "output_type": "stream",
     "text": [
      "crypto{3nc0d1n6_4ll_7h3_w4y_d0wn}\n"
     ]
    }
   ],
   "source": [
    "#General - Encoding - Bytes and Big Integers\n",
    "\n",
    "#Cryptosystems like RSA works on numbers, but messages are made up of characters. How should we convert our messages into numbers so that mathematical operations can be applied?\n",
    "\n",
    "#The most common way is to take the ordinal bytes of the message, convert them into hexadecimal, and concatenate. This can be interpreted as a base-16 number, and also represented in base-10.\n",
    "\n",
    "#To illustrate:\n",
    "\n",
    "#message: HELLO\n",
    "#ascii bytes: [72, 69, 76, 76, 79]\n",
    "#hex bytes: [0x48, 0x45, 0x4c, 0x4c, 0x4f]\n",
    "#base-16: 0x48454c4c4f\n",
    "#base-10: 310400273487\n",
    "\n",
    "#Convert the following integer back into a message:\n",
    "\n",
    "#cipher = 11515195063862318899931685488813747395775516287289682636499965282714637259206269\n",
    "\n",
    "print(long_to_bytes(b'11515195063862318899931685488813747395775516287289682636499965282714637259206269').decode())"
   ]
  },
  {
   "cell_type": "code",
   "execution_count": 58,
   "metadata": {
    "scrolled": true
   },
   "outputs": [
    {
     "name": "stdout",
     "output_type": "stream",
     "text": [
      "crypto{x0r_i5_ass0c1at1v3}\n"
     ]
    }
   ],
   "source": [
    "# XOR Properties\n",
    "'''\n",
    "w = KEY1 = a6c8b6733c9b22de7bc0253266a3867df55acde8635e19c73313\n",
    "x = KEY2 ^ KEY1 = 37dcb292030faa90d07eec17e3b1c6d8daf94c35d4c9191a5e1e\n",
    "y = KEY2 ^ KEY3 = c1545756687e7573db23aa1c3452a098b71a7fbf0fddddde5fc1\n",
    "z = FLAG ^ KEY1 ^ KEY3 ^ KEY2 = 04ee9855208a2cd59091d04767ae47963170d1660df7f56f5faf \n",
    "'''\n",
    "\n",
    "#based on the above, knowing XOR is associative, commutative, identity and invertable\n",
    "# F should = w ^ y ^ z \n",
    "# need to convert from hex to byte to XOR; use binascii.unhexlify()\n",
    "\n",
    "w = unhexlify(b'a6c8b6733c9b22de7bc0253266a3867df55acde8635e19c73313')\n",
    "x = unhexlify(b'37dcb292030faa90d07eec17e3b1c6d8daf94c35d4c9191a5e1e')\n",
    "y = unhexlify(b'c1545756687e7573db23aa1c3452a098b71a7fbf0fddddde5fc1')\n",
    "z = unhexlify(b'04ee9855208a2cd59091d04767ae47963170d1660df7f56f5faf')\n",
    "\n",
    "yz = xor(y, z, len(w))\n",
    "wyz = xor(w, yz, len(w))\n",
    "print(wyz.decode())"
   ]
  },
  {
   "cell_type": "code",
   "execution_count": 59,
   "metadata": {},
   "outputs": [
    {
     "name": "stdout",
     "output_type": "stream",
     "text": [
      "b\"sbi`d\\x7fk h! O!%O}iOv$f eb!'#Ori'um\"\n",
      "b'!!!!!!!!!!!!!!!!!!!!!!!!!!!!!!!!!'\n"
     ]
    }
   ],
   "source": [
    "# Favorite Byte\n",
    "# data hidden by xor w/ single byte, need to decode from hex to byte first\n",
    "input = unhexlify(b'73626960647f6b206821204f21254f7d694f7624662065622127234f726927756d')\n",
    "print(input)\n",
    "test = xor(input,input,len(input))\n",
    "\n",
    "print(test)"
   ]
  },
  {
   "cell_type": "code",
   "execution_count": null,
   "metadata": {},
   "outputs": [],
   "source": []
  }
 ],
 "metadata": {
  "kernelspec": {
   "display_name": "Python 3",
   "language": "python",
   "name": "python3"
  },
  "language_info": {
   "codemirror_mode": {
    "name": "ipython",
    "version": 3
   },
   "file_extension": ".py",
   "mimetype": "text/x-python",
   "name": "python",
   "nbconvert_exporter": "python",
   "pygments_lexer": "ipython3",
   "version": "3.8.5"
  }
 },
 "nbformat": 4,
 "nbformat_minor": 4
}
